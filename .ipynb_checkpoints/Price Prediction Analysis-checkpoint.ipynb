{
 "cells": [
  {
   "cell_type": "markdown",
   "id": "652e24ce",
   "metadata": {},
   "source": [
    "##### Importing libraries"
   ]
  },
  {
   "cell_type": "code",
   "execution_count": 304,
   "id": "871095c5",
   "metadata": {},
   "outputs": [],
   "source": [
    "import pandas as pd\n",
    "import seaborn as sns\n",
    "import matplotlib.pyplot as plt\n",
    "import numpy as np\n",
    "import datetime\n",
    "from rich import print\n",
    "from sklearn.preprocessing import LabelEncoder\n",
    "from sklearn.preprocessing import StandardScaler\n",
    "from sklearn.model_selection import train_test_split,GridSearchCV,KFold\n",
    "from sklearn.linear_model import LinearRegression\n",
    "from sklearn.ensemble import RandomForestRegressor\n",
    "from sklearn.tree import DecisionTreeRegressor\n",
    "from sklearn.neighbors import KNeighborsRegressor\n",
    "import sklearn.metrics as mt"
   ]
  },
  {
   "cell_type": "markdown",
   "id": "eb4fb92b",
   "metadata": {},
   "source": [
    "##### Loding the Dataset"
   ]
  },
  {
   "cell_type": "code",
   "execution_count": 246,
   "id": "566f0c22",
   "metadata": {},
   "outputs": [],
   "source": [
    "df = pd.read_csv('./Dataset/housing_price_dataset.csv')"
   ]
  },
  {
   "cell_type": "code",
   "execution_count": 247,
   "id": "3054ddaa",
   "metadata": {
    "scrolled": true
   },
   "outputs": [
    {
     "data": {
      "text/html": [
       "<div>\n",
       "<style scoped>\n",
       "    .dataframe tbody tr th:only-of-type {\n",
       "        vertical-align: middle;\n",
       "    }\n",
       "\n",
       "    .dataframe tbody tr th {\n",
       "        vertical-align: top;\n",
       "    }\n",
       "\n",
       "    .dataframe thead th {\n",
       "        text-align: right;\n",
       "    }\n",
       "</style>\n",
       "<table border=\"1\" class=\"dataframe\">\n",
       "  <thead>\n",
       "    <tr style=\"text-align: right;\">\n",
       "      <th></th>\n",
       "      <th>SquareFeet</th>\n",
       "      <th>Bedrooms</th>\n",
       "      <th>Bathrooms</th>\n",
       "      <th>Neighborhood</th>\n",
       "      <th>YearBuilt</th>\n",
       "      <th>Price</th>\n",
       "    </tr>\n",
       "  </thead>\n",
       "  <tbody>\n",
       "    <tr>\n",
       "      <th>0</th>\n",
       "      <td>2126</td>\n",
       "      <td>4</td>\n",
       "      <td>1</td>\n",
       "      <td>Rural</td>\n",
       "      <td>1969</td>\n",
       "      <td>215355.283618</td>\n",
       "    </tr>\n",
       "    <tr>\n",
       "      <th>1</th>\n",
       "      <td>2459</td>\n",
       "      <td>3</td>\n",
       "      <td>2</td>\n",
       "      <td>Rural</td>\n",
       "      <td>1980</td>\n",
       "      <td>195014.221626</td>\n",
       "    </tr>\n",
       "    <tr>\n",
       "      <th>2</th>\n",
       "      <td>1860</td>\n",
       "      <td>2</td>\n",
       "      <td>1</td>\n",
       "      <td>Suburb</td>\n",
       "      <td>1970</td>\n",
       "      <td>306891.012076</td>\n",
       "    </tr>\n",
       "    <tr>\n",
       "      <th>3</th>\n",
       "      <td>2294</td>\n",
       "      <td>2</td>\n",
       "      <td>1</td>\n",
       "      <td>Urban</td>\n",
       "      <td>1996</td>\n",
       "      <td>206786.787153</td>\n",
       "    </tr>\n",
       "    <tr>\n",
       "      <th>4</th>\n",
       "      <td>2130</td>\n",
       "      <td>5</td>\n",
       "      <td>2</td>\n",
       "      <td>Suburb</td>\n",
       "      <td>2001</td>\n",
       "      <td>272436.239065</td>\n",
       "    </tr>\n",
       "  </tbody>\n",
       "</table>\n",
       "</div>"
      ],
      "text/plain": [
       "   SquareFeet  Bedrooms  Bathrooms Neighborhood  YearBuilt          Price\n",
       "0        2126         4          1        Rural       1969  215355.283618\n",
       "1        2459         3          2        Rural       1980  195014.221626\n",
       "2        1860         2          1       Suburb       1970  306891.012076\n",
       "3        2294         2          1        Urban       1996  206786.787153\n",
       "4        2130         5          2       Suburb       2001  272436.239065"
      ]
     },
     "execution_count": 247,
     "metadata": {},
     "output_type": "execute_result"
    }
   ],
   "source": [
    "df.head()"
   ]
  },
  {
   "cell_type": "markdown",
   "id": "e4350a43",
   "metadata": {},
   "source": [
    "##### Information on features"
   ]
  },
  {
   "cell_type": "code",
   "execution_count": 114,
   "id": "d51e0a99",
   "metadata": {
    "scrolled": true
   },
   "outputs": [
    {
     "name": "stdout",
     "output_type": "stream",
     "text": [
      "<class 'pandas.core.frame.DataFrame'>\n",
      "RangeIndex: 50000 entries, 0 to 49999\n",
      "Data columns (total 6 columns):\n",
      " #   Column        Non-Null Count  Dtype  \n",
      "---  ------        --------------  -----  \n",
      " 0   SquareFeet    50000 non-null  int64  \n",
      " 1   Bedrooms      50000 non-null  int64  \n",
      " 2   Bathrooms     50000 non-null  int64  \n",
      " 3   Neighborhood  50000 non-null  object \n",
      " 4   YearBuilt     50000 non-null  int64  \n",
      " 5   Price         50000 non-null  float64\n",
      "dtypes: float64(1), int64(4), object(1)\n",
      "memory usage: 2.3+ MB\n"
     ]
    }
   ],
   "source": [
    "df.info()"
   ]
  },
  {
   "cell_type": "markdown",
   "id": "d12b4047",
   "metadata": {},
   "source": [
    "##### Display the statistics"
   ]
  },
  {
   "cell_type": "code",
   "execution_count": 115,
   "id": "298a630a",
   "metadata": {
    "scrolled": true
   },
   "outputs": [
    {
     "data": {
      "text/html": [
       "<div>\n",
       "<style scoped>\n",
       "    .dataframe tbody tr th:only-of-type {\n",
       "        vertical-align: middle;\n",
       "    }\n",
       "\n",
       "    .dataframe tbody tr th {\n",
       "        vertical-align: top;\n",
       "    }\n",
       "\n",
       "    .dataframe thead th {\n",
       "        text-align: right;\n",
       "    }\n",
       "</style>\n",
       "<table border=\"1\" class=\"dataframe\">\n",
       "  <thead>\n",
       "    <tr style=\"text-align: right;\">\n",
       "      <th></th>\n",
       "      <th>SquareFeet</th>\n",
       "      <th>Bedrooms</th>\n",
       "      <th>Bathrooms</th>\n",
       "      <th>YearBuilt</th>\n",
       "      <th>Price</th>\n",
       "    </tr>\n",
       "  </thead>\n",
       "  <tbody>\n",
       "    <tr>\n",
       "      <th>count</th>\n",
       "      <td>50000.000000</td>\n",
       "      <td>50000.000000</td>\n",
       "      <td>50000.000000</td>\n",
       "      <td>50000.000000</td>\n",
       "      <td>50000.000000</td>\n",
       "    </tr>\n",
       "    <tr>\n",
       "      <th>mean</th>\n",
       "      <td>2006.374680</td>\n",
       "      <td>3.498700</td>\n",
       "      <td>1.995420</td>\n",
       "      <td>1985.404420</td>\n",
       "      <td>224827.325151</td>\n",
       "    </tr>\n",
       "    <tr>\n",
       "      <th>std</th>\n",
       "      <td>575.513241</td>\n",
       "      <td>1.116326</td>\n",
       "      <td>0.815851</td>\n",
       "      <td>20.719377</td>\n",
       "      <td>76141.842966</td>\n",
       "    </tr>\n",
       "    <tr>\n",
       "      <th>min</th>\n",
       "      <td>1000.000000</td>\n",
       "      <td>2.000000</td>\n",
       "      <td>1.000000</td>\n",
       "      <td>1950.000000</td>\n",
       "      <td>-36588.165397</td>\n",
       "    </tr>\n",
       "    <tr>\n",
       "      <th>25%</th>\n",
       "      <td>1513.000000</td>\n",
       "      <td>3.000000</td>\n",
       "      <td>1.000000</td>\n",
       "      <td>1967.000000</td>\n",
       "      <td>169955.860225</td>\n",
       "    </tr>\n",
       "    <tr>\n",
       "      <th>50%</th>\n",
       "      <td>2007.000000</td>\n",
       "      <td>3.000000</td>\n",
       "      <td>2.000000</td>\n",
       "      <td>1985.000000</td>\n",
       "      <td>225052.141166</td>\n",
       "    </tr>\n",
       "    <tr>\n",
       "      <th>75%</th>\n",
       "      <td>2506.000000</td>\n",
       "      <td>4.000000</td>\n",
       "      <td>3.000000</td>\n",
       "      <td>2003.000000</td>\n",
       "      <td>279373.630052</td>\n",
       "    </tr>\n",
       "    <tr>\n",
       "      <th>max</th>\n",
       "      <td>2999.000000</td>\n",
       "      <td>5.000000</td>\n",
       "      <td>3.000000</td>\n",
       "      <td>2021.000000</td>\n",
       "      <td>492195.259972</td>\n",
       "    </tr>\n",
       "  </tbody>\n",
       "</table>\n",
       "</div>"
      ],
      "text/plain": [
       "         SquareFeet      Bedrooms     Bathrooms     YearBuilt          Price\n",
       "count  50000.000000  50000.000000  50000.000000  50000.000000   50000.000000\n",
       "mean    2006.374680      3.498700      1.995420   1985.404420  224827.325151\n",
       "std      575.513241      1.116326      0.815851     20.719377   76141.842966\n",
       "min     1000.000000      2.000000      1.000000   1950.000000  -36588.165397\n",
       "25%     1513.000000      3.000000      1.000000   1967.000000  169955.860225\n",
       "50%     2007.000000      3.000000      2.000000   1985.000000  225052.141166\n",
       "75%     2506.000000      4.000000      3.000000   2003.000000  279373.630052\n",
       "max     2999.000000      5.000000      3.000000   2021.000000  492195.259972"
      ]
     },
     "execution_count": 115,
     "metadata": {},
     "output_type": "execute_result"
    }
   ],
   "source": [
    "df.describe()"
   ]
  },
  {
   "cell_type": "markdown",
   "id": "d1f55a07",
   "metadata": {},
   "source": [
    "##### Display the data types"
   ]
  },
  {
   "cell_type": "code",
   "execution_count": 116,
   "id": "bf478ff4",
   "metadata": {},
   "outputs": [
    {
     "data": {
      "text/plain": [
       "SquareFeet        int64\n",
       "Bedrooms          int64\n",
       "Bathrooms         int64\n",
       "Neighborhood     object\n",
       "YearBuilt         int64\n",
       "Price           float64\n",
       "dtype: object"
      ]
     },
     "execution_count": 116,
     "metadata": {},
     "output_type": "execute_result"
    }
   ],
   "source": [
    "df.dtypes"
   ]
  },
  {
   "cell_type": "code",
   "execution_count": 117,
   "id": "7d1b95bb",
   "metadata": {},
   "outputs": [
    {
     "data": {
      "text/plain": [
       "(50000, 6)"
      ]
     },
     "execution_count": 117,
     "metadata": {},
     "output_type": "execute_result"
    }
   ],
   "source": [
    "df.shape"
   ]
  },
  {
   "cell_type": "code",
   "execution_count": 118,
   "id": "7c599d6e",
   "metadata": {
    "scrolled": false
   },
   "outputs": [
    {
     "data": {
      "text/plain": [
       "SquareFeet      0\n",
       "Bedrooms        0\n",
       "Bathrooms       0\n",
       "Neighborhood    0\n",
       "YearBuilt       0\n",
       "Price           0\n",
       "dtype: int64"
      ]
     },
     "execution_count": 118,
     "metadata": {},
     "output_type": "execute_result"
    }
   ],
   "source": [
    "df.isna().sum()"
   ]
  },
  {
   "cell_type": "markdown",
   "id": "e1812253",
   "metadata": {},
   "source": [
    "##### Duplicated values handling"
   ]
  },
  {
   "cell_type": "code",
   "execution_count": 157,
   "id": "6c2ce5bb",
   "metadata": {},
   "outputs": [
    {
     "data": {
      "text/plain": [
       "0"
      ]
     },
     "execution_count": 157,
     "metadata": {},
     "output_type": "execute_result"
    }
   ],
   "source": [
    "df.duplicated().sum()"
   ]
  },
  {
   "cell_type": "code",
   "execution_count": 119,
   "id": "e90ac150",
   "metadata": {},
   "outputs": [
    {
     "data": {
      "text/html": [
       "<pre style=\"white-space:pre;overflow-x:auto;line-height:normal;font-family:Menlo,'DejaVu Sans Mono',consolas,'Courier New',monospace\">Total category in the feature Neighborhood :\n",
       " Suburb    <span style=\"color: #008080; text-decoration-color: #008080; font-weight: bold\">16721</span>\n",
       "Rural     <span style=\"color: #008080; text-decoration-color: #008080; font-weight: bold\">16676</span>\n",
       "Urban     <span style=\"color: #008080; text-decoration-color: #008080; font-weight: bold\">16603</span>\n",
       "Name: Neighborhood, dtype: int64\n",
       "</pre>\n"
      ],
      "text/plain": [
       "Total category in the feature Neighborhood :\n",
       " Suburb    \u001b[1;36m16721\u001b[0m\n",
       "Rural     \u001b[1;36m16676\u001b[0m\n",
       "Urban     \u001b[1;36m16603\u001b[0m\n",
       "Name: Neighborhood, dtype: int64\n"
      ]
     },
     "metadata": {},
     "output_type": "display_data"
    },
    {
     "data": {
      "text/html": [
       "<pre style=\"white-space:pre;overflow-x:auto;line-height:normal;font-family:Menlo,'DejaVu Sans Mono',consolas,'Courier New',monospace\">Total number of Bedrooms : \n",
       " <span style=\"color: #008080; text-decoration-color: #008080; font-weight: bold\">3</span>    <span style=\"color: #008080; text-decoration-color: #008080; font-weight: bold\">12661</span>\n",
       "<span style=\"color: #008080; text-decoration-color: #008080; font-weight: bold\">5</span>    <span style=\"color: #008080; text-decoration-color: #008080; font-weight: bold\">12468</span>\n",
       "<span style=\"color: #008080; text-decoration-color: #008080; font-weight: bold\">2</span>    <span style=\"color: #008080; text-decoration-color: #008080; font-weight: bold\">12436</span>\n",
       "<span style=\"color: #008080; text-decoration-color: #008080; font-weight: bold\">4</span>    <span style=\"color: #008080; text-decoration-color: #008080; font-weight: bold\">12435</span>\n",
       "Name: Bedrooms, dtype: int64\n",
       "</pre>\n"
      ],
      "text/plain": [
       "Total number of Bedrooms : \n",
       " \u001b[1;36m3\u001b[0m    \u001b[1;36m12661\u001b[0m\n",
       "\u001b[1;36m5\u001b[0m    \u001b[1;36m12468\u001b[0m\n",
       "\u001b[1;36m2\u001b[0m    \u001b[1;36m12436\u001b[0m\n",
       "\u001b[1;36m4\u001b[0m    \u001b[1;36m12435\u001b[0m\n",
       "Name: Bedrooms, dtype: int64\n"
      ]
     },
     "metadata": {},
     "output_type": "display_data"
    },
    {
     "data": {
      "text/html": [
       "<pre style=\"white-space:pre;overflow-x:auto;line-height:normal;font-family:Menlo,'DejaVu Sans Mono',consolas,'Courier New',monospace\">Total number of Bathrooms : \n",
       " <span style=\"color: #008080; text-decoration-color: #008080; font-weight: bold\">1</span>    <span style=\"color: #008080; text-decoration-color: #008080; font-weight: bold\">16755</span>\n",
       "<span style=\"color: #008080; text-decoration-color: #008080; font-weight: bold\">2</span>    <span style=\"color: #008080; text-decoration-color: #008080; font-weight: bold\">16719</span>\n",
       "<span style=\"color: #008080; text-decoration-color: #008080; font-weight: bold\">3</span>    <span style=\"color: #008080; text-decoration-color: #008080; font-weight: bold\">16526</span>\n",
       "Name: Bathrooms, dtype: int64\n",
       "</pre>\n"
      ],
      "text/plain": [
       "Total number of Bathrooms : \n",
       " \u001b[1;36m1\u001b[0m    \u001b[1;36m16755\u001b[0m\n",
       "\u001b[1;36m2\u001b[0m    \u001b[1;36m16719\u001b[0m\n",
       "\u001b[1;36m3\u001b[0m    \u001b[1;36m16526\u001b[0m\n",
       "Name: Bathrooms, dtype: int64\n"
      ]
     },
     "metadata": {},
     "output_type": "display_data"
    }
   ],
   "source": [
    "print('Total category in the feature Neighborhood :\\n',df['Neighborhood'].value_counts())\n",
    "print(f'Total number of Bedrooms : \\n {df[\"Bedrooms\"].value_counts()}')\n",
    "print(f'Total number of Bathrooms : \\n {df[\"Bathrooms\"].value_counts()}')"
   ]
  },
  {
   "cell_type": "code",
   "execution_count": 120,
   "id": "f2f47cde",
   "metadata": {
    "scrolled": true
   },
   "outputs": [
    {
     "data": {
      "text/html": [
       "<pre style=\"white-space:pre;overflow-x:auto;line-height:normal;font-family:Menlo,'DejaVu Sans Mono',consolas,'Courier New',monospace\"><span style=\"font-weight: bold\">[</span><span style=\"color: #008080; text-decoration-color: #008080; font-weight: bold\">1950</span> <span style=\"color: #008080; text-decoration-color: #008080; font-weight: bold\">1951</span> <span style=\"color: #008080; text-decoration-color: #008080; font-weight: bold\">1952</span> <span style=\"color: #008080; text-decoration-color: #008080; font-weight: bold\">1953</span> <span style=\"color: #008080; text-decoration-color: #008080; font-weight: bold\">1954</span> <span style=\"color: #008080; text-decoration-color: #008080; font-weight: bold\">1955</span> <span style=\"color: #008080; text-decoration-color: #008080; font-weight: bold\">1956</span> <span style=\"color: #008080; text-decoration-color: #008080; font-weight: bold\">1957</span> <span style=\"color: #008080; text-decoration-color: #008080; font-weight: bold\">1958</span> <span style=\"color: #008080; text-decoration-color: #008080; font-weight: bold\">1959</span> <span style=\"color: #008080; text-decoration-color: #008080; font-weight: bold\">1960</span> <span style=\"color: #008080; text-decoration-color: #008080; font-weight: bold\">1961</span> <span style=\"color: #008080; text-decoration-color: #008080; font-weight: bold\">1962</span> <span style=\"color: #008080; text-decoration-color: #008080; font-weight: bold\">1963</span>\n",
       " <span style=\"color: #008080; text-decoration-color: #008080; font-weight: bold\">1964</span> <span style=\"color: #008080; text-decoration-color: #008080; font-weight: bold\">1965</span> <span style=\"color: #008080; text-decoration-color: #008080; font-weight: bold\">1966</span> <span style=\"color: #008080; text-decoration-color: #008080; font-weight: bold\">1967</span> <span style=\"color: #008080; text-decoration-color: #008080; font-weight: bold\">1968</span> <span style=\"color: #008080; text-decoration-color: #008080; font-weight: bold\">1969</span> <span style=\"color: #008080; text-decoration-color: #008080; font-weight: bold\">1970</span> <span style=\"color: #008080; text-decoration-color: #008080; font-weight: bold\">1971</span> <span style=\"color: #008080; text-decoration-color: #008080; font-weight: bold\">1972</span> <span style=\"color: #008080; text-decoration-color: #008080; font-weight: bold\">1973</span> <span style=\"color: #008080; text-decoration-color: #008080; font-weight: bold\">1974</span> <span style=\"color: #008080; text-decoration-color: #008080; font-weight: bold\">1975</span> <span style=\"color: #008080; text-decoration-color: #008080; font-weight: bold\">1976</span> <span style=\"color: #008080; text-decoration-color: #008080; font-weight: bold\">1977</span>\n",
       " <span style=\"color: #008080; text-decoration-color: #008080; font-weight: bold\">1978</span> <span style=\"color: #008080; text-decoration-color: #008080; font-weight: bold\">1979</span> <span style=\"color: #008080; text-decoration-color: #008080; font-weight: bold\">1980</span> <span style=\"color: #008080; text-decoration-color: #008080; font-weight: bold\">1981</span> <span style=\"color: #008080; text-decoration-color: #008080; font-weight: bold\">1982</span> <span style=\"color: #008080; text-decoration-color: #008080; font-weight: bold\">1983</span> <span style=\"color: #008080; text-decoration-color: #008080; font-weight: bold\">1984</span> <span style=\"color: #008080; text-decoration-color: #008080; font-weight: bold\">1985</span> <span style=\"color: #008080; text-decoration-color: #008080; font-weight: bold\">1986</span> <span style=\"color: #008080; text-decoration-color: #008080; font-weight: bold\">1987</span> <span style=\"color: #008080; text-decoration-color: #008080; font-weight: bold\">1988</span> <span style=\"color: #008080; text-decoration-color: #008080; font-weight: bold\">1989</span> <span style=\"color: #008080; text-decoration-color: #008080; font-weight: bold\">1990</span> <span style=\"color: #008080; text-decoration-color: #008080; font-weight: bold\">1991</span>\n",
       " <span style=\"color: #008080; text-decoration-color: #008080; font-weight: bold\">1992</span> <span style=\"color: #008080; text-decoration-color: #008080; font-weight: bold\">1993</span> <span style=\"color: #008080; text-decoration-color: #008080; font-weight: bold\">1994</span> <span style=\"color: #008080; text-decoration-color: #008080; font-weight: bold\">1995</span> <span style=\"color: #008080; text-decoration-color: #008080; font-weight: bold\">1996</span> <span style=\"color: #008080; text-decoration-color: #008080; font-weight: bold\">1997</span> <span style=\"color: #008080; text-decoration-color: #008080; font-weight: bold\">1998</span> <span style=\"color: #008080; text-decoration-color: #008080; font-weight: bold\">1999</span> <span style=\"color: #008080; text-decoration-color: #008080; font-weight: bold\">2000</span> <span style=\"color: #008080; text-decoration-color: #008080; font-weight: bold\">2001</span> <span style=\"color: #008080; text-decoration-color: #008080; font-weight: bold\">2002</span> <span style=\"color: #008080; text-decoration-color: #008080; font-weight: bold\">2003</span> <span style=\"color: #008080; text-decoration-color: #008080; font-weight: bold\">2004</span> <span style=\"color: #008080; text-decoration-color: #008080; font-weight: bold\">2005</span>\n",
       " <span style=\"color: #008080; text-decoration-color: #008080; font-weight: bold\">2006</span> <span style=\"color: #008080; text-decoration-color: #008080; font-weight: bold\">2007</span> <span style=\"color: #008080; text-decoration-color: #008080; font-weight: bold\">2008</span> <span style=\"color: #008080; text-decoration-color: #008080; font-weight: bold\">2009</span> <span style=\"color: #008080; text-decoration-color: #008080; font-weight: bold\">2010</span> <span style=\"color: #008080; text-decoration-color: #008080; font-weight: bold\">2011</span> <span style=\"color: #008080; text-decoration-color: #008080; font-weight: bold\">2012</span> <span style=\"color: #008080; text-decoration-color: #008080; font-weight: bold\">2013</span> <span style=\"color: #008080; text-decoration-color: #008080; font-weight: bold\">2014</span> <span style=\"color: #008080; text-decoration-color: #008080; font-weight: bold\">2015</span> <span style=\"color: #008080; text-decoration-color: #008080; font-weight: bold\">2016</span> <span style=\"color: #008080; text-decoration-color: #008080; font-weight: bold\">2017</span> <span style=\"color: #008080; text-decoration-color: #008080; font-weight: bold\">2018</span> <span style=\"color: #008080; text-decoration-color: #008080; font-weight: bold\">2019</span>\n",
       " <span style=\"color: #008080; text-decoration-color: #008080; font-weight: bold\">2020</span> <span style=\"color: #008080; text-decoration-color: #008080; font-weight: bold\">2021</span><span style=\"font-weight: bold\">]</span>\n",
       "</pre>\n"
      ],
      "text/plain": [
       "\u001b[1m[\u001b[0m\u001b[1;36m1950\u001b[0m \u001b[1;36m1951\u001b[0m \u001b[1;36m1952\u001b[0m \u001b[1;36m1953\u001b[0m \u001b[1;36m1954\u001b[0m \u001b[1;36m1955\u001b[0m \u001b[1;36m1956\u001b[0m \u001b[1;36m1957\u001b[0m \u001b[1;36m1958\u001b[0m \u001b[1;36m1959\u001b[0m \u001b[1;36m1960\u001b[0m \u001b[1;36m1961\u001b[0m \u001b[1;36m1962\u001b[0m \u001b[1;36m1963\u001b[0m\n",
       " \u001b[1;36m1964\u001b[0m \u001b[1;36m1965\u001b[0m \u001b[1;36m1966\u001b[0m \u001b[1;36m1967\u001b[0m \u001b[1;36m1968\u001b[0m \u001b[1;36m1969\u001b[0m \u001b[1;36m1970\u001b[0m \u001b[1;36m1971\u001b[0m \u001b[1;36m1972\u001b[0m \u001b[1;36m1973\u001b[0m \u001b[1;36m1974\u001b[0m \u001b[1;36m1975\u001b[0m \u001b[1;36m1976\u001b[0m \u001b[1;36m1977\u001b[0m\n",
       " \u001b[1;36m1978\u001b[0m \u001b[1;36m1979\u001b[0m \u001b[1;36m1980\u001b[0m \u001b[1;36m1981\u001b[0m \u001b[1;36m1982\u001b[0m \u001b[1;36m1983\u001b[0m \u001b[1;36m1984\u001b[0m \u001b[1;36m1985\u001b[0m \u001b[1;36m1986\u001b[0m \u001b[1;36m1987\u001b[0m \u001b[1;36m1988\u001b[0m \u001b[1;36m1989\u001b[0m \u001b[1;36m1990\u001b[0m \u001b[1;36m1991\u001b[0m\n",
       " \u001b[1;36m1992\u001b[0m \u001b[1;36m1993\u001b[0m \u001b[1;36m1994\u001b[0m \u001b[1;36m1995\u001b[0m \u001b[1;36m1996\u001b[0m \u001b[1;36m1997\u001b[0m \u001b[1;36m1998\u001b[0m \u001b[1;36m1999\u001b[0m \u001b[1;36m2000\u001b[0m \u001b[1;36m2001\u001b[0m \u001b[1;36m2002\u001b[0m \u001b[1;36m2003\u001b[0m \u001b[1;36m2004\u001b[0m \u001b[1;36m2005\u001b[0m\n",
       " \u001b[1;36m2006\u001b[0m \u001b[1;36m2007\u001b[0m \u001b[1;36m2008\u001b[0m \u001b[1;36m2009\u001b[0m \u001b[1;36m2010\u001b[0m \u001b[1;36m2011\u001b[0m \u001b[1;36m2012\u001b[0m \u001b[1;36m2013\u001b[0m \u001b[1;36m2014\u001b[0m \u001b[1;36m2015\u001b[0m \u001b[1;36m2016\u001b[0m \u001b[1;36m2017\u001b[0m \u001b[1;36m2018\u001b[0m \u001b[1;36m2019\u001b[0m\n",
       " \u001b[1;36m2020\u001b[0m \u001b[1;36m2021\u001b[0m\u001b[1m]\u001b[0m\n"
      ]
     },
     "metadata": {},
     "output_type": "display_data"
    }
   ],
   "source": [
    "Years = df['YearBuilt'].unique()\n",
    "print(np.sort(Years))"
   ]
  },
  {
   "cell_type": "code",
   "execution_count": 121,
   "id": "bef48442",
   "metadata": {},
   "outputs": [
    {
     "data": {
      "text/html": [
       "<pre style=\"white-space:pre;overflow-x:auto;line-height:normal;font-family:Menlo,'DejaVu Sans Mono',consolas,'Courier New',monospace\">The maximum price is : <span style=\"color: #008080; text-decoration-color: #008080; font-weight: bold\">492195.2599720151</span>\n",
       "</pre>\n"
      ],
      "text/plain": [
       "The maximum price is : \u001b[1;36m492195.2599720151\u001b[0m\n"
      ]
     },
     "metadata": {},
     "output_type": "display_data"
    },
    {
     "data": {
      "text/html": [
       "<pre style=\"white-space:pre;overflow-x:auto;line-height:normal;font-family:Menlo,'DejaVu Sans Mono',consolas,'Courier New',monospace\">The minimum price is : <span style=\"color: #008080; text-decoration-color: #008080; font-weight: bold\">-36588.16539749279</span>\n",
       "</pre>\n"
      ],
      "text/plain": [
       "The minimum price is : \u001b[1;36m-36588.16539749279\u001b[0m\n"
      ]
     },
     "metadata": {},
     "output_type": "display_data"
    }
   ],
   "source": [
    "max_price = df['Price'].max()\n",
    "min_price = df['Price'].min()\n",
    "print(f'The maximum price is : {max_price}')\n",
    "print(f'The minimum price is : {min_price}')"
   ]
  },
  {
   "cell_type": "code",
   "execution_count": 122,
   "id": "f1236629",
   "metadata": {},
   "outputs": [
    {
     "data": {
      "text/html": [
       "<pre style=\"white-space:pre;overflow-x:auto;line-height:normal;font-family:Menlo,'DejaVu Sans Mono',consolas,'Courier New',monospace\"><span style=\"color: #008080; text-decoration-color: #008080; font-weight: bold\">22</span>\n",
       "</pre>\n"
      ],
      "text/plain": [
       "\u001b[1;36m22\u001b[0m\n"
      ]
     },
     "metadata": {},
     "output_type": "display_data"
    }
   ],
   "source": [
    "negative_price_count = df[df['Price'] < 0]['Price'].count()\n",
    "print(negative_price_count)"
   ]
  },
  {
   "cell_type": "code",
   "execution_count": 123,
   "id": "f83f814d",
   "metadata": {},
   "outputs": [
    {
     "data": {
      "text/plain": [
       "(49978, 6)"
      ]
     },
     "execution_count": 123,
     "metadata": {},
     "output_type": "execute_result"
    }
   ],
   "source": [
    "df = df[df['Price'] >= 0]\n",
    "df.shape"
   ]
  },
  {
   "cell_type": "markdown",
   "id": "7f3d600a",
   "metadata": {},
   "source": [
    "##### Calculate the maximum and minimum values of SquareFeet,\n",
    "##### count occurrences of each unique value, get sorted unique values"
   ]
  },
  {
   "cell_type": "code",
   "execution_count": 124,
   "id": "a5734376",
   "metadata": {},
   "outputs": [
    {
     "data": {
      "text/html": [
       "<pre style=\"white-space:pre;overflow-x:auto;line-height:normal;font-family:Menlo,'DejaVu Sans Mono',consolas,'Courier New',monospace\">The maximum Square Feet is : <span style=\"color: #008080; text-decoration-color: #008080; font-weight: bold\">2999</span>\n",
       "</pre>\n"
      ],
      "text/plain": [
       "The maximum Square Feet is : \u001b[1;36m2999\u001b[0m\n"
      ]
     },
     "metadata": {},
     "output_type": "display_data"
    },
    {
     "data": {
      "text/html": [
       "<pre style=\"white-space:pre;overflow-x:auto;line-height:normal;font-family:Menlo,'DejaVu Sans Mono',consolas,'Courier New',monospace\">The minimum Square Feet is : <span style=\"color: #008080; text-decoration-color: #008080; font-weight: bold\">1000</span>\n",
       "</pre>\n"
      ],
      "text/plain": [
       "The minimum Square Feet is : \u001b[1;36m1000\u001b[0m\n"
      ]
     },
     "metadata": {},
     "output_type": "display_data"
    },
    {
     "data": {
      "text/html": [
       "<pre style=\"white-space:pre;overflow-x:auto;line-height:normal;font-family:Menlo,'DejaVu Sans Mono',consolas,'Courier New',monospace\">Count of Square Feet values : <span style=\"color: #008080; text-decoration-color: #008080; font-weight: bold\">2486</span>    <span style=\"color: #008080; text-decoration-color: #008080; font-weight: bold\">43</span>\n",
       "<span style=\"color: #008080; text-decoration-color: #008080; font-weight: bold\">1897</span>    <span style=\"color: #008080; text-decoration-color: #008080; font-weight: bold\">41</span>\n",
       "<span style=\"color: #008080; text-decoration-color: #008080; font-weight: bold\">2573</span>    <span style=\"color: #008080; text-decoration-color: #008080; font-weight: bold\">40</span>\n",
       "<span style=\"color: #008080; text-decoration-color: #008080; font-weight: bold\">2946</span>    <span style=\"color: #008080; text-decoration-color: #008080; font-weight: bold\">40</span>\n",
       "<span style=\"color: #008080; text-decoration-color: #008080; font-weight: bold\">1815</span>    <span style=\"color: #008080; text-decoration-color: #008080; font-weight: bold\">40</span>\n",
       "        ..\n",
       "<span style=\"color: #008080; text-decoration-color: #008080; font-weight: bold\">1635</span>    <span style=\"color: #008080; text-decoration-color: #008080; font-weight: bold\">12</span>\n",
       "<span style=\"color: #008080; text-decoration-color: #008080; font-weight: bold\">1019</span>    <span style=\"color: #008080; text-decoration-color: #008080; font-weight: bold\">12</span>\n",
       "<span style=\"color: #008080; text-decoration-color: #008080; font-weight: bold\">2330</span>    <span style=\"color: #008080; text-decoration-color: #008080; font-weight: bold\">12</span>\n",
       "<span style=\"color: #008080; text-decoration-color: #008080; font-weight: bold\">2087</span>    <span style=\"color: #008080; text-decoration-color: #008080; font-weight: bold\">11</span>\n",
       "<span style=\"color: #008080; text-decoration-color: #008080; font-weight: bold\">1828</span>    <span style=\"color: #008080; text-decoration-color: #008080; font-weight: bold\">10</span>\n",
       "Name: SquareFeet, Length: <span style=\"color: #008080; text-decoration-color: #008080; font-weight: bold\">2000</span>, dtype: int64\n",
       "</pre>\n"
      ],
      "text/plain": [
       "Count of Square Feet values : \u001b[1;36m2486\u001b[0m    \u001b[1;36m43\u001b[0m\n",
       "\u001b[1;36m1897\u001b[0m    \u001b[1;36m41\u001b[0m\n",
       "\u001b[1;36m2573\u001b[0m    \u001b[1;36m40\u001b[0m\n",
       "\u001b[1;36m2946\u001b[0m    \u001b[1;36m40\u001b[0m\n",
       "\u001b[1;36m1815\u001b[0m    \u001b[1;36m40\u001b[0m\n",
       "        ..\n",
       "\u001b[1;36m1635\u001b[0m    \u001b[1;36m12\u001b[0m\n",
       "\u001b[1;36m1019\u001b[0m    \u001b[1;36m12\u001b[0m\n",
       "\u001b[1;36m2330\u001b[0m    \u001b[1;36m12\u001b[0m\n",
       "\u001b[1;36m2087\u001b[0m    \u001b[1;36m11\u001b[0m\n",
       "\u001b[1;36m1828\u001b[0m    \u001b[1;36m10\u001b[0m\n",
       "Name: SquareFeet, Length: \u001b[1;36m2000\u001b[0m, dtype: int64\n"
      ]
     },
     "metadata": {},
     "output_type": "display_data"
    },
    {
     "data": {
      "text/html": [
       "<pre style=\"white-space:pre;overflow-x:auto;line-height:normal;font-family:Menlo,'DejaVu Sans Mono',consolas,'Courier New',monospace\">Sorted unique SquareFeet values: <span style=\"font-weight: bold\">[</span><span style=\"color: #008080; text-decoration-color: #008080; font-weight: bold\">1000</span> <span style=\"color: #008080; text-decoration-color: #008080; font-weight: bold\">1001</span> <span style=\"color: #008080; text-decoration-color: #008080; font-weight: bold\">1002</span> <span style=\"color: #808000; text-decoration-color: #808000\">...</span> <span style=\"color: #008080; text-decoration-color: #008080; font-weight: bold\">2997</span> <span style=\"color: #008080; text-decoration-color: #008080; font-weight: bold\">2998</span> <span style=\"color: #008080; text-decoration-color: #008080; font-weight: bold\">2999</span><span style=\"font-weight: bold\">]</span>\n",
       "</pre>\n"
      ],
      "text/plain": [
       "Sorted unique SquareFeet values: \u001b[1m[\u001b[0m\u001b[1;36m1000\u001b[0m \u001b[1;36m1001\u001b[0m \u001b[1;36m1002\u001b[0m \u001b[33m...\u001b[0m \u001b[1;36m2997\u001b[0m \u001b[1;36m2998\u001b[0m \u001b[1;36m2999\u001b[0m\u001b[1m]\u001b[0m\n"
      ]
     },
     "metadata": {},
     "output_type": "display_data"
    }
   ],
   "source": [
    "max_SquareFeet = df['SquareFeet'].max()\n",
    "min_SquareFeet = df['SquareFeet'].min()\n",
    "count_SquareFeet = df['SquareFeet'].value_counts()\n",
    "SquareFeet = np.sort(df['SquareFeet'].unique())\n",
    "print(f'The maximum Square Feet is : {max_SquareFeet}')\n",
    "print(f'The minimum Square Feet is : {min_SquareFeet}')\n",
    "print(f'Count of Square Feet values : {count_SquareFeet}')\n",
    "print(f'Sorted unique SquareFeet values: {SquareFeet}')"
   ]
  },
  {
   "cell_type": "code",
   "execution_count": 211,
   "id": "a87edf39",
   "metadata": {},
   "outputs": [
    {
     "data": {
      "image/png": "[encoded data removed]",
      "text/plain": [
       "<Figure size 1200x800 with 4 Axes>"
      ]
     },
     "metadata": {},
     "output_type": "display_data"
    }
   ],
   "source": [
    "fig, axes = plt.subplots(nrows = 2, ncols = 2 , figsize=(12,8))\n",
    "df['SquareFeet'].plot(kind='hist',bins= 20, ax = axes[0,0],edgecolor='black',title = 'Distribution of Square Feet',color='#97BCE9')\n",
    "df['Bedrooms'].plot(kind='hist',ax = axes[0,1],color = '#97BCE9',edgecolor='black', title = 'Distribution of Bedrooms')\n",
    "df['Bathrooms'].plot(kind='hist',ax = axes[1,0],color = '#97BCE9',edgecolor='black',title = 'Distribution of Bathrooms')\n",
    "df['YearBuilt'].plot(kind='hist',ax = axes[1,1],bins= 20,color = '#97BCE9',edgecolor='black',title = 'Distribution of Year Built')\n",
    "plt.tight_layout()\n",
    "plt.show()"
   ]
  },
  {
   "cell_type": "code",
   "execution_count": 126,
   "id": "478bc4d5",
   "metadata": {},
   "outputs": [
    {
     "data": {
      "image/png": "[encoded data removed]",
      "text/plain": [
       "<Figure size 1200x800 with 4 Axes>"
      ]
     },
     "metadata": {},
     "output_type": "display_data"
    }
   ],
   "source": [
    "fig,axes = plt.subplots(nrows = 2, ncols = 2, figsize = (12,8))\n",
    "df['SquareFeet'].plot(kind='box',ax = axes[0,0],title = 'Box plot of Square Feet',vert=False)\n",
    "df['Bedrooms'].plot(kind='box',ax = axes[0,1],title = 'Box plot of Bedrooms',vert=False)\n",
    "df['Bathrooms'].plot(kind='box',ax = axes[1,0],title = 'Box plot of Bathrooms',vert=False)\n",
    "df['YearBuilt'].plot(kind='box',ax = axes[1,1],title = 'Box plot of YearBuilt',vert=False)\n",
    "plt.tight_layout()\n",
    "plt.show()"
   ]
  },
  {
   "cell_type": "code",
   "execution_count": 138,
   "id": "567c6f30",
   "metadata": {},
   "outputs": [
    {
     "data": {
      "image/png": "[encoded data removed]",
      "text/plain": [
       "<Figure size 800x400 with 1 Axes>"
      ]
     },
     "metadata": {},
     "output_type": "display_data"
    }
   ],
   "source": [
    "plt.figure(figsize=(8,4))\n",
    "sns.lineplot(x='YearBuilt', y='Price', data=df)\n",
    "plt.xlabel('SquareFeet')\n",
    "plt.ylabel('Price')\n",
    "plt.title('Distribution of Prices by Square Feet')\n",
    "plt.tight_layout()\n",
    "plt.show()"
   ]
  },
  {
   "cell_type": "code",
   "execution_count": 144,
   "id": "5295d9b5",
   "metadata": {},
   "outputs": [
    {
     "data": {
      "image/png": "[encoded data removed]",
      "text/plain": [
       "<Figure size 800x400 with 1 Axes>"
      ]
     },
     "metadata": {},
     "output_type": "display_data"
    }
   ],
   "source": [
    "plt.figure(figsize=(8,4))\n",
    "sns.boxplot(x='Neighborhood', y='Price', data=df)\n",
    "plt.tight_layout()\n",
    "plt.show()"
   ]
  },
  {
   "cell_type": "markdown",
   "id": "be2ab0f3",
   "metadata": {},
   "source": [
    "##### display the correlation amongst the features"
   ]
  },
  {
   "cell_type": "code",
   "execution_count": 152,
   "id": "1499c363",
   "metadata": {},
   "outputs": [
    {
     "data": {
      "text/plain": [
       "Text(0.5, 1.0, 'Correlation Matrix')"
      ]
     },
     "execution_count": 152,
     "metadata": {},
     "output_type": "execute_result"
    },
    {
     "data": {
      "image/png": "[encoded data removed]",
      "text/plain": [
       "<Figure size 2000x2000 with 2 Axes>"
      ]
     },
     "metadata": {},
     "output_type": "display_data"
    }
   ],
   "source": [
    "corrmat = df.corr()\n",
    "plt.figure(figsize=(20,20))\n",
    "sns.heatmap(corrmat,annot=True,cmap=\"viridis\",fmt=\".3f\",center=0)\n",
    "plt.title(\"Correlation Matrix\")\n"
   ]
  },
  {
   "cell_type": "markdown",
   "id": "ec090903",
   "metadata": {},
   "source": [
    "#### Data preprocecing"
   ]
  },
  {
   "cell_type": "markdown",
   "id": "24dde848",
   "metadata": {},
   "source": [
    "##### Encoding"
   ]
  },
  {
   "cell_type": "code",
   "execution_count": 252,
   "id": "b1a7ac8c",
   "metadata": {},
   "outputs": [
    {
     "data": {
      "text/html": [
       "<pre style=\"white-space:pre;overflow-x:auto;line-height:normal;font-family:Menlo,'DejaVu Sans Mono',consolas,'Courier New',monospace\">Categorical variables in the dataset:\n",
       "<span style=\"font-weight: bold\">[</span><span style=\"color: #008000; text-decoration-color: #008000\">'Neighborhood'</span><span style=\"font-weight: bold\">]</span>\n",
       "</pre>\n"
      ],
      "text/plain": [
       "Categorical variables in the dataset:\n",
       "\u001b[1m[\u001b[0m\u001b[32m'Neighborhood'\u001b[0m\u001b[1m]\u001b[0m\n"
      ]
     },
     "metadata": {},
     "output_type": "display_data"
    }
   ],
   "source": [
    "##Get list of categorical variables\n",
    "s = (df.dtypes == 'object')\n",
    "categorical_variables = list(s[s].index)\n",
    "print('Categorical variables in the dataset:',categorical_variables)"
   ]
  },
  {
   "cell_type": "code",
   "execution_count": 253,
   "id": "11284e3b",
   "metadata": {
    "scrolled": true
   },
   "outputs": [
    {
     "data": {
      "text/html": [
       "<pre style=\"white-space:pre;overflow-x:auto;line-height:normal;font-family:Menlo,'DejaVu Sans Mono',consolas,'Courier New',monospace\">All features are now numerical\n",
       "</pre>\n"
      ],
      "text/plain": [
       "All features are now numerical\n"
      ]
     },
     "metadata": {},
     "output_type": "display_data"
    }
   ],
   "source": [
    "encoder = LabelEncoder()\n",
    "for i in categorical_variables:\n",
    "    df[i] = df[[i]].apply(encoder.fit_transform)\n",
    "print(\"All features are now numerical\")\n"
   ]
  },
  {
   "cell_type": "markdown",
   "id": "6e63298c",
   "metadata": {},
   "source": [
    "##### Feature Engineering"
   ]
  },
  {
   "cell_type": "markdown",
   "id": "606a412a",
   "metadata": {},
   "source": [
    "##### Création de nouvelles caractéristiques"
   ]
  },
  {
   "cell_type": "code",
   "execution_count": 249,
   "id": "5eb0f7e0",
   "metadata": {
    "scrolled": false
   },
   "outputs": [
    {
     "data": {
      "text/html": [
       "<div>\n",
       "<style scoped>\n",
       "    .dataframe tbody tr th:only-of-type {\n",
       "        vertical-align: middle;\n",
       "    }\n",
       "\n",
       "    .dataframe tbody tr th {\n",
       "        vertical-align: top;\n",
       "    }\n",
       "\n",
       "    .dataframe thead th {\n",
       "        text-align: right;\n",
       "    }\n",
       "</style>\n",
       "<table border=\"1\" class=\"dataframe\">\n",
       "  <thead>\n",
       "    <tr style=\"text-align: right;\">\n",
       "      <th></th>\n",
       "      <th>Home_age</th>\n",
       "    </tr>\n",
       "  </thead>\n",
       "  <tbody>\n",
       "    <tr>\n",
       "      <th>0</th>\n",
       "      <td>55</td>\n",
       "    </tr>\n",
       "    <tr>\n",
       "      <th>1</th>\n",
       "      <td>44</td>\n",
       "    </tr>\n",
       "    <tr>\n",
       "      <th>2</th>\n",
       "      <td>54</td>\n",
       "    </tr>\n",
       "    <tr>\n",
       "      <th>3</th>\n",
       "      <td>28</td>\n",
       "    </tr>\n",
       "    <tr>\n",
       "      <th>4</th>\n",
       "      <td>23</td>\n",
       "    </tr>\n",
       "  </tbody>\n",
       "</table>\n",
       "</div>"
      ],
      "text/plain": [
       "   Home_age\n",
       "0        55\n",
       "1        44\n",
       "2        54\n",
       "3        28\n",
       "4        23"
      ]
     },
     "execution_count": 249,
     "metadata": {},
     "output_type": "execute_result"
    }
   ],
   "source": [
    "df['Home_age'] = datetime.datetime.now().year - df['YearBuilt']\n",
    "df[['Home_age']].head()"
   ]
  },
  {
   "cell_type": "code",
   "execution_count": 250,
   "id": "df325f09",
   "metadata": {},
   "outputs": [
    {
     "data": {
      "text/html": [
       "<pre style=\"white-space:pre;overflow-x:auto;line-height:normal;font-family:Menlo,'DejaVu Sans Mono',consolas,'Courier New',monospace\">maximum age of a home is : <span style=\"color: #008080; text-decoration-color: #008080; font-weight: bold\">74</span>\n",
       "</pre>\n"
      ],
      "text/plain": [
       "maximum age of a home is : \u001b[1;36m74\u001b[0m\n"
      ]
     },
     "metadata": {},
     "output_type": "display_data"
    },
    {
     "data": {
      "text/html": [
       "<pre style=\"white-space:pre;overflow-x:auto;line-height:normal;font-family:Menlo,'DejaVu Sans Mono',consolas,'Courier New',monospace\">minimum age of a home is : <span style=\"color: #008080; text-decoration-color: #008080; font-weight: bold\">3</span>\n",
       "</pre>\n"
      ],
      "text/plain": [
       "minimum age of a home is : \u001b[1;36m3\u001b[0m\n"
      ]
     },
     "metadata": {},
     "output_type": "display_data"
    }
   ],
   "source": [
    "max_age = df['Home_age'].max()\n",
    "min_age = df['Home_age'].min()\n",
    "print(f'maximum age of a home is : {max_age}')\n",
    "print(f'minimum age of a home is : {min_age}')"
   ]
  },
  {
   "cell_type": "code",
   "execution_count": 255,
   "id": "835eff83",
   "metadata": {
    "scrolled": false
   },
   "outputs": [
    {
     "data": {
      "text/html": [
       "<div>\n",
       "<style scoped>\n",
       "    .dataframe tbody tr th:only-of-type {\n",
       "        vertical-align: middle;\n",
       "    }\n",
       "\n",
       "    .dataframe tbody tr th {\n",
       "        vertical-align: top;\n",
       "    }\n",
       "\n",
       "    .dataframe thead th {\n",
       "        text-align: right;\n",
       "    }\n",
       "</style>\n",
       "<table border=\"1\" class=\"dataframe\">\n",
       "  <thead>\n",
       "    <tr style=\"text-align: right;\">\n",
       "      <th></th>\n",
       "      <th>SquareFeet</th>\n",
       "      <th>Bedrooms</th>\n",
       "      <th>Bathrooms</th>\n",
       "      <th>Neighborhood</th>\n",
       "      <th>YearBuilt</th>\n",
       "      <th>Home_age</th>\n",
       "      <th>Price</th>\n",
       "    </tr>\n",
       "  </thead>\n",
       "  <tbody>\n",
       "    <tr>\n",
       "      <th>0</th>\n",
       "      <td>2126</td>\n",
       "      <td>4</td>\n",
       "      <td>1</td>\n",
       "      <td>0</td>\n",
       "      <td>1969</td>\n",
       "      <td>55</td>\n",
       "      <td>215355.283618</td>\n",
       "    </tr>\n",
       "    <tr>\n",
       "      <th>1</th>\n",
       "      <td>2459</td>\n",
       "      <td>3</td>\n",
       "      <td>2</td>\n",
       "      <td>0</td>\n",
       "      <td>1980</td>\n",
       "      <td>44</td>\n",
       "      <td>195014.221626</td>\n",
       "    </tr>\n",
       "    <tr>\n",
       "      <th>2</th>\n",
       "      <td>1860</td>\n",
       "      <td>2</td>\n",
       "      <td>1</td>\n",
       "      <td>1</td>\n",
       "      <td>1970</td>\n",
       "      <td>54</td>\n",
       "      <td>306891.012076</td>\n",
       "    </tr>\n",
       "    <tr>\n",
       "      <th>3</th>\n",
       "      <td>2294</td>\n",
       "      <td>2</td>\n",
       "      <td>1</td>\n",
       "      <td>2</td>\n",
       "      <td>1996</td>\n",
       "      <td>28</td>\n",
       "      <td>206786.787153</td>\n",
       "    </tr>\n",
       "    <tr>\n",
       "      <th>4</th>\n",
       "      <td>2130</td>\n",
       "      <td>5</td>\n",
       "      <td>2</td>\n",
       "      <td>1</td>\n",
       "      <td>2001</td>\n",
       "      <td>23</td>\n",
       "      <td>272436.239065</td>\n",
       "    </tr>\n",
       "  </tbody>\n",
       "</table>\n",
       "</div>"
      ],
      "text/plain": [
       "   SquareFeet  Bedrooms  Bathrooms  Neighborhood  YearBuilt  Home_age  \\\n",
       "0        2126         4          1             0       1969        55   \n",
       "1        2459         3          2             0       1980        44   \n",
       "2        1860         2          1             1       1970        54   \n",
       "3        2294         2          1             2       1996        28   \n",
       "4        2130         5          2             1       2001        23   \n",
       "\n",
       "           Price  \n",
       "0  215355.283618  \n",
       "1  195014.221626  \n",
       "2  306891.012076  \n",
       "3  206786.787153  \n",
       "4  272436.239065  "
      ]
     },
     "execution_count": 255,
     "metadata": {},
     "output_type": "execute_result"
    }
   ],
   "source": [
    "df = df[['SquareFeet', 'Bedrooms', 'Bathrooms', 'Neighborhood', 'YearBuilt', 'Home_age', 'Price']]\n",
    "df.head()"
   ]
  },
  {
   "cell_type": "markdown",
   "id": "2081a78e",
   "metadata": {},
   "source": [
    "##### Scaling"
   ]
  },
  {
   "cell_type": "code",
   "execution_count": 256,
   "id": "b0f9a4ee",
   "metadata": {},
   "outputs": [],
   "source": [
    "X = df.iloc[:,:-1]\n",
    "y=df.iloc[:,-1]"
   ]
  },
  {
   "cell_type": "code",
   "execution_count": 257,
   "id": "806f781a",
   "metadata": {
    "scrolled": true
   },
   "outputs": [
    {
     "data": {
      "text/html": [
       "<div>\n",
       "<style scoped>\n",
       "    .dataframe tbody tr th:only-of-type {\n",
       "        vertical-align: middle;\n",
       "    }\n",
       "\n",
       "    .dataframe tbody tr th {\n",
       "        vertical-align: top;\n",
       "    }\n",
       "\n",
       "    .dataframe thead th {\n",
       "        text-align: right;\n",
       "    }\n",
       "</style>\n",
       "<table border=\"1\" class=\"dataframe\">\n",
       "  <thead>\n",
       "    <tr style=\"text-align: right;\">\n",
       "      <th></th>\n",
       "      <th>SquareFeet</th>\n",
       "      <th>Bedrooms</th>\n",
       "      <th>Bathrooms</th>\n",
       "      <th>Neighborhood</th>\n",
       "      <th>YearBuilt</th>\n",
       "      <th>Home_age</th>\n",
       "    </tr>\n",
       "  </thead>\n",
       "  <tbody>\n",
       "    <tr>\n",
       "      <th>0</th>\n",
       "      <td>2126</td>\n",
       "      <td>4</td>\n",
       "      <td>1</td>\n",
       "      <td>0</td>\n",
       "      <td>1969</td>\n",
       "      <td>55</td>\n",
       "    </tr>\n",
       "    <tr>\n",
       "      <th>1</th>\n",
       "      <td>2459</td>\n",
       "      <td>3</td>\n",
       "      <td>2</td>\n",
       "      <td>0</td>\n",
       "      <td>1980</td>\n",
       "      <td>44</td>\n",
       "    </tr>\n",
       "    <tr>\n",
       "      <th>2</th>\n",
       "      <td>1860</td>\n",
       "      <td>2</td>\n",
       "      <td>1</td>\n",
       "      <td>1</td>\n",
       "      <td>1970</td>\n",
       "      <td>54</td>\n",
       "    </tr>\n",
       "    <tr>\n",
       "      <th>3</th>\n",
       "      <td>2294</td>\n",
       "      <td>2</td>\n",
       "      <td>1</td>\n",
       "      <td>2</td>\n",
       "      <td>1996</td>\n",
       "      <td>28</td>\n",
       "    </tr>\n",
       "    <tr>\n",
       "      <th>4</th>\n",
       "      <td>2130</td>\n",
       "      <td>5</td>\n",
       "      <td>2</td>\n",
       "      <td>1</td>\n",
       "      <td>2001</td>\n",
       "      <td>23</td>\n",
       "    </tr>\n",
       "  </tbody>\n",
       "</table>\n",
       "</div>"
      ],
      "text/plain": [
       "   SquareFeet  Bedrooms  Bathrooms  Neighborhood  YearBuilt  Home_age\n",
       "0        2126         4          1             0       1969        55\n",
       "1        2459         3          2             0       1980        44\n",
       "2        1860         2          1             1       1970        54\n",
       "3        2294         2          1             2       1996        28\n",
       "4        2130         5          2             1       2001        23"
      ]
     },
     "execution_count": 257,
     "metadata": {},
     "output_type": "execute_result"
    }
   ],
   "source": [
    "X.head()"
   ]
  },
  {
   "cell_type": "code",
   "execution_count": 258,
   "id": "a8b6cb79",
   "metadata": {},
   "outputs": [
    {
     "data": {
      "text/plain": [
       "0    215355.283618\n",
       "1    195014.221626\n",
       "2    306891.012076\n",
       "3    206786.787153\n",
       "4    272436.239065\n",
       "Name: Price, dtype: float64"
      ]
     },
     "execution_count": 258,
     "metadata": {},
     "output_type": "execute_result"
    }
   ],
   "source": [
    "y.head()"
   ]
  },
  {
   "cell_type": "code",
   "execution_count": 259,
   "id": "b32eed73",
   "metadata": {},
   "outputs": [
    {
     "data": {
      "text/html": [
       "<pre style=\"white-space:pre;overflow-x:auto;line-height:normal;font-family:Menlo,'DejaVu Sans Mono',consolas,'Courier New',monospace\">All features are now scaled\n",
       "</pre>\n"
      ],
      "text/plain": [
       "All features are now scaled\n"
      ]
     },
     "metadata": {},
     "output_type": "display_data"
    }
   ],
   "source": [
    "scaler = StandardScaler()\n",
    "X_scaler = pd.DataFrame(scaler.fit_transform(X),columns = X.columns)\n",
    "print(\"All features are now scaled\")"
   ]
  },
  {
   "cell_type": "code",
   "execution_count": 260,
   "id": "b4320884",
   "metadata": {},
   "outputs": [
    {
     "data": {
      "text/html": [
       "<pre style=\"white-space:pre;overflow-x:auto;line-height:normal;font-family:Menlo,'DejaVu Sans Mono',consolas,'Courier New',monospace\">Dataframe to be used for further modelling:\n",
       "</pre>\n"
      ],
      "text/plain": [
       "Dataframe to be used for further modelling:\n"
      ]
     },
     "metadata": {},
     "output_type": "display_data"
    },
    {
     "data": {
      "text/html": [
       "<div>\n",
       "<style scoped>\n",
       "    .dataframe tbody tr th:only-of-type {\n",
       "        vertical-align: middle;\n",
       "    }\n",
       "\n",
       "    .dataframe tbody tr th {\n",
       "        vertical-align: top;\n",
       "    }\n",
       "\n",
       "    .dataframe thead th {\n",
       "        text-align: right;\n",
       "    }\n",
       "</style>\n",
       "<table border=\"1\" class=\"dataframe\">\n",
       "  <thead>\n",
       "    <tr style=\"text-align: right;\">\n",
       "      <th></th>\n",
       "      <th>SquareFeet</th>\n",
       "      <th>Bedrooms</th>\n",
       "      <th>Bathrooms</th>\n",
       "      <th>Neighborhood</th>\n",
       "      <th>YearBuilt</th>\n",
       "      <th>Home_age</th>\n",
       "    </tr>\n",
       "  </thead>\n",
       "  <tbody>\n",
       "    <tr>\n",
       "      <th>0</th>\n",
       "      <td>0.207861</td>\n",
       "      <td>0.449067</td>\n",
       "      <td>-1.220113</td>\n",
       "      <td>-1.223957</td>\n",
       "      <td>-0.791751</td>\n",
       "      <td>0.791751</td>\n",
       "    </tr>\n",
       "    <tr>\n",
       "      <th>1</th>\n",
       "      <td>0.786480</td>\n",
       "      <td>-0.446738</td>\n",
       "      <td>0.005614</td>\n",
       "      <td>-1.223957</td>\n",
       "      <td>-0.260842</td>\n",
       "      <td>0.260842</td>\n",
       "    </tr>\n",
       "    <tr>\n",
       "      <th>2</th>\n",
       "      <td>-0.254340</td>\n",
       "      <td>-1.342543</td>\n",
       "      <td>-1.220113</td>\n",
       "      <td>0.001790</td>\n",
       "      <td>-0.743486</td>\n",
       "      <td>0.743486</td>\n",
       "    </tr>\n",
       "    <tr>\n",
       "      <th>3</th>\n",
       "      <td>0.499777</td>\n",
       "      <td>-1.342543</td>\n",
       "      <td>-1.220113</td>\n",
       "      <td>1.227536</td>\n",
       "      <td>0.511390</td>\n",
       "      <td>-0.511390</td>\n",
       "    </tr>\n",
       "    <tr>\n",
       "      <th>4</th>\n",
       "      <td>0.214811</td>\n",
       "      <td>1.344872</td>\n",
       "      <td>0.005614</td>\n",
       "      <td>0.001790</td>\n",
       "      <td>0.752713</td>\n",
       "      <td>-0.752713</td>\n",
       "    </tr>\n",
       "  </tbody>\n",
       "</table>\n",
       "</div>"
      ],
      "text/plain": [
       "   SquareFeet  Bedrooms  Bathrooms  Neighborhood  YearBuilt  Home_age\n",
       "0    0.207861  0.449067  -1.220113     -1.223957  -0.791751  0.791751\n",
       "1    0.786480 -0.446738   0.005614     -1.223957  -0.260842  0.260842\n",
       "2   -0.254340 -1.342543  -1.220113      0.001790  -0.743486  0.743486\n",
       "3    0.499777 -1.342543  -1.220113      1.227536   0.511390 -0.511390\n",
       "4    0.214811  1.344872   0.005614      0.001790   0.752713 -0.752713"
      ]
     },
     "execution_count": 260,
     "metadata": {},
     "output_type": "execute_result"
    }
   ],
   "source": [
    "print(\"Dataframe to be used for further modelling:\")\n",
    "X_scaler.head()"
   ]
  },
  {
   "cell_type": "markdown",
   "id": "74ba2b6d",
   "metadata": {},
   "source": [
    "##### Train Test split"
   ]
  },
  {
   "cell_type": "code",
   "execution_count": 261,
   "id": "5fe21fc1",
   "metadata": {},
   "outputs": [],
   "source": [
    "X_train, X_test, y_train, y_test = train_test_split(X_scaler,y,test_size = 0.3,random_state = 42)"
   ]
  },
  {
   "cell_type": "code",
   "execution_count": 265,
   "id": "c7e812b6",
   "metadata": {},
   "outputs": [
    {
     "data": {
      "text/plain": [
       "((35000, 6), (15000, 6), (35000,), (15000,))"
      ]
     },
     "execution_count": 265,
     "metadata": {},
     "output_type": "execute_result"
    }
   ],
   "source": [
    "X_train.shape,X_test.shape,y_train.shape,y_test.shape"
   ]
  },
  {
   "cell_type": "markdown",
   "id": "ee00b8ae",
   "metadata": {},
   "source": [
    "### Model Selection & Training"
   ]
  },
  {
   "cell_type": "markdown",
   "id": "82bc4f55",
   "metadata": {},
   "source": [
    "##### Linear Regression"
   ]
  },
  {
   "cell_type": "code",
   "execution_count": 319,
   "id": "d4e06ef6",
   "metadata": {},
   "outputs": [],
   "source": [
    "linear_model = LinearRegression()\n",
    "linear_model.fit(X_train,y_train)\n",
    "predicted_y= linear_model.predict(X_test)"
   ]
  },
  {
   "cell_type": "code",
   "execution_count": 320,
   "id": "205d92cc",
   "metadata": {},
   "outputs": [
    {
     "data": {
      "text/html": [
       "<pre style=\"white-space:pre;overflow-x:auto;line-height:normal;font-family:Menlo,'DejaVu Sans Mono',consolas,'Courier New',monospace\">R-squared score: <span style=\"color: #008080; text-decoration-color: #008080; font-weight: bold\">0.5728</span>\n",
       "</pre>\n"
      ],
      "text/plain": [
       "R-squared score: \u001b[1;36m0.5728\u001b[0m\n"
      ]
     },
     "metadata": {},
     "output_type": "display_data"
    },
    {
     "data": {
      "text/html": [
       "<pre style=\"white-space:pre;overflow-x:auto;line-height:normal;font-family:Menlo,'DejaVu Sans Mono',consolas,'Courier New',monospace\">Mean Absolute Error: <span style=\"color: #008080; text-decoration-color: #008080; font-weight: bold\">39741.6472</span>\n",
       "</pre>\n"
      ],
      "text/plain": [
       "Mean Absolute Error: \u001b[1;36m39741.6472\u001b[0m\n"
      ]
     },
     "metadata": {},
     "output_type": "display_data"
    },
    {
     "data": {
      "text/html": [
       "<pre style=\"white-space:pre;overflow-x:auto;line-height:normal;font-family:Menlo,'DejaVu Sans Mono',consolas,'Courier New',monospace\">Mean Squared Error: <span style=\"color: #008080; text-decoration-color: #008080; font-weight: bold\">2468771544.2756</span>\n",
       "</pre>\n"
      ],
      "text/plain": [
       "Mean Squared Error: \u001b[1;36m2468771544.2756\u001b[0m\n"
      ]
     },
     "metadata": {},
     "output_type": "display_data"
    },
    {
     "data": {
      "text/html": [
       "<pre style=\"white-space:pre;overflow-x:auto;line-height:normal;font-family:Menlo,'DejaVu Sans Mono',consolas,'Courier New',monospace\">Root Mean Squared Error: <span style=\"color: #008080; text-decoration-color: #008080; font-weight: bold\">49686.7341</span>\n",
       "</pre>\n"
      ],
      "text/plain": [
       "Root Mean Squared Error: \u001b[1;36m49686.7341\u001b[0m\n"
      ]
     },
     "metadata": {},
     "output_type": "display_data"
    }
   ],
   "source": [
    "MAE = mt.mean_absolute_error(y_test, predicted_y)\n",
    "MSE = mt.mean_squared_error(y_test, predicted_y)\n",
    "RMSE = mt.mean_squared_error(y_test, predicted_y, squared=False)\n",
    "R2 = mt.r2_score(y_test, predicted_y)\n",
    "print(f\"R-squared score: {R2:.4f}\")\n",
    "print(f\"Mean Absolute Error: {MAE:.4f}\")\n",
    "print(f\"Mean Squared Error: {MSE:.4f}\")\n",
    "print(f\"Root Mean Squared Error: {RMSE:.4f}\")"
   ]
  },
  {
   "cell_type": "markdown",
   "id": "412ba59c",
   "metadata": {},
   "source": [
    "#####  K Neighbors Regressor\n"
   ]
  },
  {
   "cell_type": "code",
   "execution_count": 321,
   "id": "d9b167e3",
   "metadata": {},
   "outputs": [],
   "source": [
    "knn_model = KNeighborsRegressor()\n",
    "knn_model.fit(X_train,y_train)\n",
    "predicted_y = knn_model.predict(X_test)"
   ]
  },
  {
   "cell_type": "code",
   "execution_count": 322,
   "id": "e0f7a7c6",
   "metadata": {},
   "outputs": [
    {
     "data": {
      "text/html": [
       "<pre style=\"white-space:pre;overflow-x:auto;line-height:normal;font-family:Menlo,'DejaVu Sans Mono',consolas,'Courier New',monospace\">R-squared score: <span style=\"color: #008080; text-decoration-color: #008080; font-weight: bold\">0.4841</span>\n",
       "</pre>\n"
      ],
      "text/plain": [
       "R-squared score: \u001b[1;36m0.4841\u001b[0m\n"
      ]
     },
     "metadata": {},
     "output_type": "display_data"
    },
    {
     "data": {
      "text/html": [
       "<pre style=\"white-space:pre;overflow-x:auto;line-height:normal;font-family:Menlo,'DejaVu Sans Mono',consolas,'Courier New',monospace\">Mean Absolute Error: <span style=\"color: #008080; text-decoration-color: #008080; font-weight: bold\">43573.5691</span>\n",
       "</pre>\n"
      ],
      "text/plain": [
       "Mean Absolute Error: \u001b[1;36m43573.5691\u001b[0m\n"
      ]
     },
     "metadata": {},
     "output_type": "display_data"
    },
    {
     "data": {
      "text/html": [
       "<pre style=\"white-space:pre;overflow-x:auto;line-height:normal;font-family:Menlo,'DejaVu Sans Mono',consolas,'Courier New',monospace\">Mean Squared Error: <span style=\"color: #008080; text-decoration-color: #008080; font-weight: bold\">2981515472.5785</span>\n",
       "</pre>\n"
      ],
      "text/plain": [
       "Mean Squared Error: \u001b[1;36m2981515472.5785\u001b[0m\n"
      ]
     },
     "metadata": {},
     "output_type": "display_data"
    },
    {
     "data": {
      "text/html": [
       "<pre style=\"white-space:pre;overflow-x:auto;line-height:normal;font-family:Menlo,'DejaVu Sans Mono',consolas,'Courier New',monospace\">Root Mean Squared Error: <span style=\"color: #008080; text-decoration-color: #008080; font-weight: bold\">54603.2551</span>\n",
       "</pre>\n"
      ],
      "text/plain": [
       "Root Mean Squared Error: \u001b[1;36m54603.2551\u001b[0m\n"
      ]
     },
     "metadata": {},
     "output_type": "display_data"
    }
   ],
   "source": [
    "MAE = mt.mean_absolute_error(y_test, predicted_y)\n",
    "MSE = mt.mean_squared_error(y_test, predicted_y)\n",
    "RMSE = mt.mean_squared_error(y_test, predicted_y, squared=False)\n",
    "R2 = mt.r2_score(y_test, predicted_y)\n",
    "print(f\"R-squared score: {R2:.4f}\")\n",
    "print(f\"Mean Absolute Error: {MAE:.4f}\")\n",
    "print(f\"Mean Squared Error: {MSE:.4f}\")\n",
    "print(f\"Root Mean Squared Error: {RMSE:.4f}\")"
   ]
  },
  {
   "cell_type": "markdown",
   "id": "5037cdc4",
   "metadata": {},
   "source": [
    "##### Decision Tree Regressor"
   ]
  },
  {
   "cell_type": "code",
   "execution_count": 325,
   "id": "81b8a36d",
   "metadata": {},
   "outputs": [],
   "source": [
    "tree_model = DecisionTreeRegressor()\n",
    "tree_model.fit(X_train,y_train)\n",
    "predicted_y = tree_model.predict(X_test)"
   ]
  },
  {
   "cell_type": "code",
   "execution_count": 326,
   "id": "02ed14e4",
   "metadata": {
    "scrolled": true
   },
   "outputs": [
    {
     "data": {
      "text/html": [
       "<pre style=\"white-space:pre;overflow-x:auto;line-height:normal;font-family:Menlo,'DejaVu Sans Mono',consolas,'Courier New',monospace\">R-squared score: <span style=\"color: #008080; text-decoration-color: #008080; font-weight: bold\">0.0791</span>\n",
       "</pre>\n"
      ],
      "text/plain": [
       "R-squared score: \u001b[1;36m0.0791\u001b[0m\n"
      ]
     },
     "metadata": {},
     "output_type": "display_data"
    },
    {
     "data": {
      "text/html": [
       "<pre style=\"white-space:pre;overflow-x:auto;line-height:normal;font-family:Menlo,'DejaVu Sans Mono',consolas,'Courier New',monospace\">Mean Absolute Error: <span style=\"color: #008080; text-decoration-color: #008080; font-weight: bold\">58470.5806</span>\n",
       "</pre>\n"
      ],
      "text/plain": [
       "Mean Absolute Error: \u001b[1;36m58470.5806\u001b[0m\n"
      ]
     },
     "metadata": {},
     "output_type": "display_data"
    },
    {
     "data": {
      "text/html": [
       "<pre style=\"white-space:pre;overflow-x:auto;line-height:normal;font-family:Menlo,'DejaVu Sans Mono',consolas,'Courier New',monospace\">Mean Squared Error: <span style=\"color: #008080; text-decoration-color: #008080; font-weight: bold\">5322283158.2516</span>\n",
       "</pre>\n"
      ],
      "text/plain": [
       "Mean Squared Error: \u001b[1;36m5322283158.2516\u001b[0m\n"
      ]
     },
     "metadata": {},
     "output_type": "display_data"
    },
    {
     "data": {
      "text/html": [
       "<pre style=\"white-space:pre;overflow-x:auto;line-height:normal;font-family:Menlo,'DejaVu Sans Mono',consolas,'Courier New',monospace\">Root Mean Squared Error: <span style=\"color: #008080; text-decoration-color: #008080; font-weight: bold\">72953.9797</span>\n",
       "</pre>\n"
      ],
      "text/plain": [
       "Root Mean Squared Error: \u001b[1;36m72953.9797\u001b[0m\n"
      ]
     },
     "metadata": {},
     "output_type": "display_data"
    }
   ],
   "source": [
    "MAE = mt.mean_absolute_error(y_test, predicted_y)\n",
    "MSE = mt.mean_squared_error(y_test, predicted_y)\n",
    "RMSE = mt.mean_squared_error(y_test, predicted_y, squared=False)\n",
    "R2 = mt.r2_score(y_test, predicted_y)\n",
    "print(f\"R-squared score: {R2:.4f}\")\n",
    "print(f\"Mean Absolute Error: {MAE:.4f}\")\n",
    "print(f\"Mean Squared Error: {MSE:.4f}\")\n",
    "print(f\"Root Mean Squared Error: {RMSE:.4f}\")"
   ]
  },
  {
   "cell_type": "markdown",
   "id": "cd69f192",
   "metadata": {},
   "source": [
    "##### Random Forest Regressor"
   ]
  },
  {
   "cell_type": "code",
   "execution_count": 327,
   "id": "3f704798",
   "metadata": {},
   "outputs": [],
   "source": [
    "random_forest_model = RandomForestRegressor()\n",
    "random_forest_model.fit(X_train,y_train)\n",
    "predicted_y = random_forest_model.predict(X_test)"
   ]
  },
  {
   "cell_type": "code",
   "execution_count": 328,
   "id": "e169d288",
   "metadata": {
    "scrolled": true
   },
   "outputs": [
    {
     "data": {
      "text/html": [
       "<pre style=\"white-space:pre;overflow-x:auto;line-height:normal;font-family:Menlo,'DejaVu Sans Mono',consolas,'Courier New',monospace\">R-squared score: <span style=\"color: #008080; text-decoration-color: #008080; font-weight: bold\">0.5136</span>\n",
       "</pre>\n"
      ],
      "text/plain": [
       "R-squared score: \u001b[1;36m0.5136\u001b[0m\n"
      ]
     },
     "metadata": {},
     "output_type": "display_data"
    },
    {
     "data": {
      "text/html": [
       "<pre style=\"white-space:pre;overflow-x:auto;line-height:normal;font-family:Menlo,'DejaVu Sans Mono',consolas,'Courier New',monospace\">Mean Absolute Error: <span style=\"color: #008080; text-decoration-color: #008080; font-weight: bold\">42373.1158</span>\n",
       "</pre>\n"
      ],
      "text/plain": [
       "Mean Absolute Error: \u001b[1;36m42373.1158\u001b[0m\n"
      ]
     },
     "metadata": {},
     "output_type": "display_data"
    },
    {
     "data": {
      "text/html": [
       "<pre style=\"white-space:pre;overflow-x:auto;line-height:normal;font-family:Menlo,'DejaVu Sans Mono',consolas,'Courier New',monospace\">Mean Squared Error: <span style=\"color: #008080; text-decoration-color: #008080; font-weight: bold\">2811267680.3774</span>\n",
       "</pre>\n"
      ],
      "text/plain": [
       "Mean Squared Error: \u001b[1;36m2811267680.3774\u001b[0m\n"
      ]
     },
     "metadata": {},
     "output_type": "display_data"
    },
    {
     "data": {
      "text/html": [
       "<pre style=\"white-space:pre;overflow-x:auto;line-height:normal;font-family:Menlo,'DejaVu Sans Mono',consolas,'Courier New',monospace\">Root Mean Squared Error: <span style=\"color: #008080; text-decoration-color: #008080; font-weight: bold\">53021.3889</span>\n",
       "</pre>\n"
      ],
      "text/plain": [
       "Root Mean Squared Error: \u001b[1;36m53021.3889\u001b[0m\n"
      ]
     },
     "metadata": {},
     "output_type": "display_data"
    }
   ],
   "source": [
    "MAE = mt.mean_absolute_error(y_test, predicted_y)\n",
    "MSE = mt.mean_squared_error(y_test, predicted_y)\n",
    "RMSE = mt.mean_squared_error(y_test, predicted_y, squared=False)\n",
    "R2 = mt.r2_score(y_test, predicted_y)\n",
    "print(f\"R-squared score: {R2:.4f}\")\n",
    "print(f\"Mean Absolute Error: {MAE:.4f}\")\n",
    "print(f\"Mean Squared Error: {MSE:.4f}\")\n",
    "print(f\"Root Mean Squared Error: {RMSE:.4f}\")"
   ]
  },
  {
   "cell_type": "markdown",
   "id": "8bc417bc",
   "metadata": {},
   "source": [
    "### Hyperparameter Tuning"
   ]
  },
  {
   "cell_type": "markdown",
   "id": "a8221970",
   "metadata": {},
   "source": [
    "#####  K Neighbors Regressor\n"
   ]
  },
  {
   "cell_type": "code",
   "execution_count": 330,
   "id": "6b4a8a48",
   "metadata": {},
   "outputs": [],
   "source": [
    "param_grid = {\n",
    "    'n_neighbors': [3, 5, 7, 10],\n",
    "    'weights': ['uniform', 'distance'],\n",
    "    'algorithm': ['auto', 'ball_tree', 'kd_tree', 'brute']\n",
    "}\n",
    "grid_search = GridSearchCV(estimator=knn_model, param_grid=param_grid, cv=5, scoring='r2')\n",
    "grid_search.fit(X_train, y_train)\n",
    "best_model = grid_search.best_estimator_\n",
    "predicted_y = best_model.predict(X_test)"
   ]
  },
  {
   "cell_type": "code",
   "execution_count": 331,
   "id": "5326afd3",
   "metadata": {
    "scrolled": true
   },
   "outputs": [
    {
     "data": {
      "text/html": [
       "<pre style=\"white-space:pre;overflow-x:auto;line-height:normal;font-family:Menlo,'DejaVu Sans Mono',consolas,'Courier New',monospace\">R-squared score: <span style=\"color: #008080; text-decoration-color: #008080; font-weight: bold\">0.5251</span>\n",
       "</pre>\n"
      ],
      "text/plain": [
       "R-squared score: \u001b[1;36m0.5251\u001b[0m\n"
      ]
     },
     "metadata": {},
     "output_type": "display_data"
    },
    {
     "data": {
      "text/html": [
       "<pre style=\"white-space:pre;overflow-x:auto;line-height:normal;font-family:Menlo,'DejaVu Sans Mono',consolas,'Courier New',monospace\">Mean Absolute Error: <span style=\"color: #008080; text-decoration-color: #008080; font-weight: bold\">41854.4754</span>\n",
       "</pre>\n"
      ],
      "text/plain": [
       "Mean Absolute Error: \u001b[1;36m41854.4754\u001b[0m\n"
      ]
     },
     "metadata": {},
     "output_type": "display_data"
    },
    {
     "data": {
      "text/html": [
       "<pre style=\"white-space:pre;overflow-x:auto;line-height:normal;font-family:Menlo,'DejaVu Sans Mono',consolas,'Courier New',monospace\">Mean Squared Error: <span style=\"color: #008080; text-decoration-color: #008080; font-weight: bold\">2744696491.1421</span>\n",
       "</pre>\n"
      ],
      "text/plain": [
       "Mean Squared Error: \u001b[1;36m2744696491.1421\u001b[0m\n"
      ]
     },
     "metadata": {},
     "output_type": "display_data"
    },
    {
     "data": {
      "text/html": [
       "<pre style=\"white-space:pre;overflow-x:auto;line-height:normal;font-family:Menlo,'DejaVu Sans Mono',consolas,'Courier New',monospace\">Root Mean Squared Error: <span style=\"color: #008080; text-decoration-color: #008080; font-weight: bold\">52389.8510</span>\n",
       "</pre>\n"
      ],
      "text/plain": [
       "Root Mean Squared Error: \u001b[1;36m52389.8510\u001b[0m\n"
      ]
     },
     "metadata": {},
     "output_type": "display_data"
    }
   ],
   "source": [
    "MAE = mt.mean_absolute_error(y_test, predicted_y)\n",
    "MSE = mt.mean_squared_error(y_test, predicted_y)\n",
    "RMSE = mt.mean_squared_error(y_test, predicted_y, squared=False)\n",
    "R2 = mt.r2_score(y_test, predicted_y)\n",
    "\n",
    "# Print evaluation metrics\n",
    "print(f\"R-squared score: {R2:.4f}\")\n",
    "print(f\"Mean Absolute Error: {MAE:.4f}\")\n",
    "print(f\"Mean Squared Error: {MSE:.4f}\")\n",
    "print(f\"Root Mean Squared Error: {RMSE:.4f}\")"
   ]
  }
 ],
 "metadata": {
  "kernelspec": {
   "display_name": "Python 3 (ipykernel)",
   "language": "python",
   "name": "python3"
  },
  "language_info": {
   "codemirror_mode": {
    "name": "ipython",
    "version": 3
   },
   "file_extension": ".py",
   "mimetype": "text/x-python",
   "name": "python",
   "nbconvert_exporter": "python",
   "pygments_lexer": "ipython3",
   "version": "3.9.13"
  }
 },
 "nbformat": 4,
 "nbformat_minor": 5
}
